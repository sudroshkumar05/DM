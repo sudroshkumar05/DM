{
 "cells": [
  {
   "cell_type": "markdown",
   "id": "bcd9a8e6-b573-4897-a2e4-a6b3f03cfeb7",
   "metadata": {},
   "source": [
    "# Predicting a continuous variable using regressor models using KNN, XGBoost, and MLP\n",
    "## Introduction\n",
    "\n",
    "### Authored by:\n",
    "#### Team Name : ELITE\n",
    "\n",
    "Team Members:Sindhura Alla,Medha Alla,Ravindra Kumar Velidandi,Sai Mithil Sagi,Venkata Saipavan Lahar Sudrosh Kumar Atchutha,Sanjana Thinderu\n",
    "\n",
    "Objective is to use regressor models using KNN, XGBoost, and MLPl to predict which model has better performnace using root sum of squared errors as evaluation metric."
   ]
  },
  {
   "cell_type": "markdown",
   "id": "bbed56fa-0116-4e9e-b74b-f22bb93b86e0",
   "metadata": {},
   "source": [
    "## Step 1 - Importing the required packages"
   ]
  },
  {
   "cell_type": "code",
   "execution_count": 1,
   "id": "5c8650f2-fb40-4c54-98bf-997113c43145",
   "metadata": {},
   "outputs": [
    {
     "name": "stderr",
     "output_type": "stream",
     "text": [
      "/Users/sindhura/opt/anaconda3/lib/python3.9/site-packages/xgboost/compat.py:36: FutureWarning: pandas.Int64Index is deprecated and will be removed from pandas in a future version. Use pandas.Index with the appropriate dtype instead.\n",
      "  from pandas import MultiIndex, Int64Index\n"
     ]
    }
   ],
   "source": [
    "import matplotlib.pyplot as plt\n",
    "import numpy as np\n",
    "import pandas as pd\n",
    "from sklearn.preprocessing import PolynomialFeatures\n",
    "from sklearn.metrics import mean_squared_error, r2_score\n",
    "from sklearn.neighbors import KNeighborsRegressor\n",
    "from sklearn.neural_network import MLPRegressor\n",
    "from xgboost import XGBRegressor\n",
    "from sklearn.model_selection import train_test_split"
   ]
  },
  {
   "cell_type": "markdown",
   "id": "02dec3ae-d136-430c-9d50-82b9f5d14a00",
   "metadata": {},
   "source": [
    "## Step 2- Loading the required data"
   ]
  },
  {
   "cell_type": "code",
   "execution_count": 2,
   "id": "45cb4a02-47d2-4120-b343-c8c8c8d41659",
   "metadata": {},
   "outputs": [
    {
     "data": {
      "text/html": [
       "<div>\n",
       "<style scoped>\n",
       "    .dataframe tbody tr th:only-of-type {\n",
       "        vertical-align: middle;\n",
       "    }\n",
       "\n",
       "    .dataframe tbody tr th {\n",
       "        vertical-align: top;\n",
       "    }\n",
       "\n",
       "    .dataframe thead th {\n",
       "        text-align: right;\n",
       "    }\n",
       "</style>\n",
       "<table border=\"1\" class=\"dataframe\">\n",
       "  <thead>\n",
       "    <tr style=\"text-align: right;\">\n",
       "      <th></th>\n",
       "      <th>input</th>\n",
       "      <th>target</th>\n",
       "    </tr>\n",
       "  </thead>\n",
       "  <tbody>\n",
       "    <tr>\n",
       "      <th>0</th>\n",
       "      <td>-7.30</td>\n",
       "      <td>2.451483e+05</td>\n",
       "    </tr>\n",
       "    <tr>\n",
       "      <th>1</th>\n",
       "      <td>-130.15</td>\n",
       "      <td>2.324013e+06</td>\n",
       "    </tr>\n",
       "    <tr>\n",
       "      <th>2</th>\n",
       "      <td>-106.01</td>\n",
       "      <td>9.672982e+05</td>\n",
       "    </tr>\n",
       "    <tr>\n",
       "      <th>3</th>\n",
       "      <td>-9.99</td>\n",
       "      <td>-3.043995e+05</td>\n",
       "    </tr>\n",
       "    <tr>\n",
       "      <th>4</th>\n",
       "      <td>-10.06</td>\n",
       "      <td>-1.013953e+06</td>\n",
       "    </tr>\n",
       "    <tr>\n",
       "      <th>5</th>\n",
       "      <td>-11.73</td>\n",
       "      <td>3.055883e+05</td>\n",
       "    </tr>\n",
       "    <tr>\n",
       "      <th>6</th>\n",
       "      <td>-14.25</td>\n",
       "      <td>-1.741598e+05</td>\n",
       "    </tr>\n",
       "    <tr>\n",
       "      <th>7</th>\n",
       "      <td>-39.65</td>\n",
       "      <td>1.386264e+05</td>\n",
       "    </tr>\n",
       "    <tr>\n",
       "      <th>8</th>\n",
       "      <td>-44.41</td>\n",
       "      <td>3.382260e+05</td>\n",
       "    </tr>\n",
       "    <tr>\n",
       "      <th>9</th>\n",
       "      <td>-102.22</td>\n",
       "      <td>6.748891e+05</td>\n",
       "    </tr>\n",
       "  </tbody>\n",
       "</table>\n",
       "</div>"
      ],
      "text/plain": [
       "    input        target\n",
       "0   -7.30  2.451483e+05\n",
       "1 -130.15  2.324013e+06\n",
       "2 -106.01  9.672982e+05\n",
       "3   -9.99 -3.043995e+05\n",
       "4  -10.06 -1.013953e+06\n",
       "5  -11.73  3.055883e+05\n",
       "6  -14.25 -1.741598e+05\n",
       "7  -39.65  1.386264e+05\n",
       "8  -44.41  3.382260e+05\n",
       "9 -102.22  6.748891e+05"
      ]
     },
     "execution_count": 2,
     "metadata": {},
     "output_type": "execute_result"
    }
   ],
   "source": [
    "imp_df = pd.read_csv('/Users/sindhura/Materials/USF/Data Mining/isms6136/Assignment 8/week09-a8-data.csv')\n",
    "imp_df.head(10)"
   ]
  },
  {
   "cell_type": "markdown",
   "id": "1245f493-6712-4342-9a85-31d10f849cc8",
   "metadata": {},
   "source": [
    "### Step 2.2- Data Exploration"
   ]
  },
  {
   "cell_type": "code",
   "execution_count": 3,
   "id": "48cb010d-d71c-439a-993e-c1afd01f15c2",
   "metadata": {},
   "outputs": [
    {
     "name": "stdout",
     "output_type": "stream",
     "text": [
      "Index(['input', 'target'], dtype='object')\n",
      "             input        target\n",
      "count  2000.000000  2.000000e+03\n",
      "mean    103.306935 -3.130993e+05\n",
      "std     100.608839  9.569853e+05\n",
      "min    -215.340000 -5.231576e+06\n",
      "25%      37.640000 -8.012161e+05\n",
      "50%     103.450000 -3.182998e+05\n",
      "75%     171.890000  1.324946e+05\n",
      "max     495.860000  1.057182e+07\n",
      "<class 'pandas.core.frame.DataFrame'>\n",
      "RangeIndex: 2000 entries, 0 to 1999\n",
      "Data columns (total 2 columns):\n",
      " #   Column  Non-Null Count  Dtype  \n",
      "---  ------  --------------  -----  \n",
      " 0   input   2000 non-null   float64\n",
      " 1   target  2000 non-null   float64\n",
      "dtypes: float64(2)\n",
      "memory usage: 31.4 KB\n",
      "None\n",
      "input    target       \n",
      "-215.34   1.057182e+07    1\n",
      " 147.15  -9.785370e+05    1\n",
      " 149.52  -6.250398e+05    1\n",
      " 149.43  -1.284435e+05    1\n",
      " 149.23  -1.390616e+05    1\n",
      "                         ..\n",
      " 59.75   -9.617942e+05    1\n",
      " 59.39    2.363168e+05    1\n",
      " 59.28    4.554690e+05    1\n",
      " 59.27    2.142222e+04    1\n",
      " 495.86  -5.231576e+06    1\n",
      "Length: 2000, dtype: int64\n"
     ]
    }
   ],
   "source": [
    "print(imp_df.columns)\n",
    "print(imp_df.describe())\n",
    "print(imp_df.info())\n",
    "print(imp_df.value_counts())"
   ]
  },
  {
   "cell_type": "code",
   "execution_count": 4,
   "id": "3196e42f-dd33-48de-b1de-da689419b602",
   "metadata": {},
   "outputs": [
    {
     "data": {
      "text/plain": [
       "input     float64\n",
       "target    float64\n",
       "dtype: object"
      ]
     },
     "execution_count": 4,
     "metadata": {},
     "output_type": "execute_result"
    }
   ],
   "source": [
    "imp_df.dtypes"
   ]
  },
  {
   "cell_type": "markdown",
   "id": "ce2663e3-6b42-4780-88bd-d53e0bf70432",
   "metadata": {},
   "source": [
    "## Step 3 - Split data into training and validation sets"
   ]
  },
  {
   "cell_type": "markdown",
   "id": "6f05ba19-b336-469b-9b4b-565bbd234d7b",
   "metadata": {},
   "source": [
    "#### Create the training set and the test set with a 70/30 split."
   ]
  },
  {
   "cell_type": "markdown",
   "id": "4ed8698c-c0ea-43d3-bdd7-6cf3486493b6",
   "metadata": {},
   "source": [
    "We've decided to utilize a training/test split of the data at 70% training and 30% testing. This percentage split ratio is inline with common practice for small to medium sized datasets, which this data represents. Moreover, we have decided not to do a three way data split, as we are only testing two models and we wish to allocated as much data as possible to training and validation steps."
   ]
  },
  {
   "cell_type": "code",
   "execution_count": 5,
   "id": "c65aed80-47fe-4749-a68f-7af60d41757d",
   "metadata": {},
   "outputs": [],
   "source": [
    "X=imp_df.iloc[:,0:1].values\n",
    "y=imp_df.iloc[:,1].values"
   ]
  },
  {
   "cell_type": "code",
   "execution_count": 6,
   "id": "c5272ddf-0e8c-41fd-b18b-3cbc8405ec54",
   "metadata": {},
   "outputs": [],
   "source": [
    "train_X, valid_X, train_y, valid_y = train_test_split(X, y, test_size=0.3, random_state=11)"
   ]
  },
  {
   "cell_type": "markdown",
   "id": "bd6dffb2-2959-4480-af5b-b54995a3f8fa",
   "metadata": {},
   "source": [
    "## Explore the training data\n",
    "\n",
    "we are using scatter plot to understand the training data"
   ]
  },
  {
   "cell_type": "code",
   "execution_count": 7,
   "id": "4c827b06-b32a-45e9-82e5-ab595f5ba7e2",
   "metadata": {},
   "outputs": [
    {
     "data": {
      "image/png": "[encoded data removed]",
      "text/plain": [
       "<Figure size 432x288 with 1 Axes>"
      ]
     },
     "metadata": {
      "needs_background": "light"
     },
     "output_type": "display_data"
    }
   ],
   "source": [
    "plt.scatter(train_X,train_y,color='red')\n",
    "plt.title('Polynomial Reqression Test')\n",
    "plt.xlabel('Input Values')\n",
    "plt.ylabel('Target Values')\n",
    "plt.show()"
   ]
  },
  {
   "cell_type": "markdown",
   "id": "a6611d30-0faf-46f8-a73e-27212b799bb4",
   "metadata": {},
   "source": [
    "## Fit the data using a KNN regression model"
   ]
  },
  {
   "cell_type": "code",
   "execution_count": 8,
   "id": "5b1f4dd7-9366-49e4-a171-1e981a318c41",
   "metadata": {},
   "outputs": [
    {
     "data": {
      "text/plain": [
       "KNeighborsRegressor(n_neighbors=3)"
      ]
     },
     "execution_count": 8,
     "metadata": {},
     "output_type": "execute_result"
    },
    {
     "name": "stdout",
     "output_type": "stream",
     "text": [
      "CPU times: user 7.11 ms, sys: 3.81 ms, total: 10.9 ms\n",
      "Wall time: 12.5 ms\n"
     ]
    }
   ],
   "source": [
    "%%time\n",
    "%%capture --no-display\n",
    "\n",
    "knn=KNeighborsRegressor(n_neighbors=3)\n",
    "knn.fit(train_X,train_y)"
   ]
  },
  {
   "cell_type": "code",
   "execution_count": 9,
   "id": "86318051-4368-4f6e-97ba-cf3a20d723da",
   "metadata": {},
   "outputs": [
    {
     "name": "stdout",
     "output_type": "stream",
     "text": [
      "CPU times: user 4.11 ms, sys: 2.49 ms, total: 6.6 ms\n",
      "Wall time: 5.95 ms\n"
     ]
    }
   ],
   "source": [
    "%%time\n",
    "\n",
    "y_pred = knn.predict(valid_X)"
   ]
  },
  {
   "cell_type": "code",
   "execution_count": 10,
   "id": "a6f2051a-22da-4af1-9bef-589d31c78a00",
   "metadata": {},
   "outputs": [
    {
     "data": {
      "image/png": "[encoded data removed]",
      "text/plain": [
       "<Figure size 432x288 with 1 Axes>"
      ]
     },
     "metadata": {
      "needs_background": "light"
     },
     "output_type": "display_data"
    }
   ],
   "source": [
    "#X_grid=np.arange(min(train_X),max(train_X),0.1)\n",
    "#X_grid=X_grid.reshape((len(X_grid),1))\n",
    "plt.scatter(train_X,train_y,color='red')\n",
    "plt.scatter(valid_X,y_pred,color='green')\n",
    "plt.title('KNN Regression Test')\n",
    "plt.xlabel('Input')\n",
    "plt.ylabel('Target')\n",
    "plt.show()"
   ]
  },
  {
   "cell_type": "code",
   "execution_count": 11,
   "id": "8e75717c-3b80-428a-9f2b-12ff6e506669",
   "metadata": {},
   "outputs": [
    {
     "data": {
      "text/plain": [
       "589310.4164876111"
      ]
     },
     "execution_count": 11,
     "metadata": {},
     "output_type": "execute_result"
    }
   ],
   "source": [
    "mean_squared_error(valid_y, y_pred)**(1/2)"
   ]
  },
  {
   "cell_type": "markdown",
   "id": "2884a2d9-1af6-4d0a-a0b0-b6fde80bf176",
   "metadata": {},
   "source": [
    "## Fit the data using a XGBoost regression model"
   ]
  },
  {
   "cell_type": "code",
   "execution_count": 12,
   "id": "1459bda9-b100-481e-a4cc-d2dda6765f42",
   "metadata": {},
   "outputs": [
    {
     "data": {
      "text/plain": [
       "XGBRegressor(base_score=0.5, booster='gbtree', colsample_bylevel=1,\n",
       "             colsample_bynode=1, colsample_bytree=1, enable_categorical=False,\n",
       "             gamma=0, gpu_id=-1, importance_type=None,\n",
       "             interaction_constraints='', learning_rate=0.300000012,\n",
       "             max_delta_step=0, max_depth=6, min_child_weight=1, missing=nan,\n",
       "             monotone_constraints='()', n_estimators=100, n_jobs=4,\n",
       "             num_parallel_tree=1, predictor='auto', random_state=0,\n",
       "             randome_state=11, reg_alpha=0, reg_lambda=1, scale_pos_weight=1,\n",
       "             subsample=1, tree_method='exact', validate_parameters=1,\n",
       "             verbosity=None)"
      ]
     },
     "execution_count": 12,
     "metadata": {},
     "output_type": "execute_result"
    },
    {
     "name": "stdout",
     "output_type": "stream",
     "text": [
      "CPU times: user 847 ms, sys: 121 ms, total: 968 ms\n",
      "Wall time: 10.7 s\n"
     ]
    }
   ],
   "source": [
    "%%time\n",
    "%%capture --no-display\n",
    "\n",
    "xgboost = XGBRegressor(randome_state=11)\n",
    "xgboost.fit(train_X,train_y)"
   ]
  },
  {
   "cell_type": "code",
   "execution_count": 13,
   "id": "5538f80f-05bb-43f6-9da1-1742c77249a4",
   "metadata": {},
   "outputs": [
    {
     "name": "stdout",
     "output_type": "stream",
     "text": [
      "CPU times: user 6.71 ms, sys: 3.01 ms, total: 9.72 ms\n",
      "Wall time: 18.2 ms\n"
     ]
    }
   ],
   "source": [
    "%%time\n",
    "y_pred = xgboost.predict(valid_X)"
   ]
  },
  {
   "cell_type": "code",
   "execution_count": 14,
   "id": "c8b513d8-f52c-4cda-a2d3-b71a705bb76d",
   "metadata": {},
   "outputs": [
    {
     "data": {
      "image/png": "[encoded data removed]",
      "text/plain": [
       "<Figure size 432x288 with 1 Axes>"
      ]
     },
     "metadata": {
      "needs_background": "light"
     },
     "output_type": "display_data"
    }
   ],
   "source": [
    "X_grid=np.arange(min(train_X),max(train_X),0.1)\n",
    "X_grid=X_grid.reshape((len(X_grid),1))\n",
    "plt.scatter(train_X,train_y,color='red')\n",
    "plt.scatter(valid_X,y_pred,color='blue')\n",
    "plt.title('XGB Regression')\n",
    "plt.xlabel('Input')\n",
    "plt.ylabel('Target')\n",
    "plt.show()"
   ]
  },
  {
   "cell_type": "code",
   "execution_count": 15,
   "id": "7c3b9f9f-e282-4b81-9edc-7f166762cfa6",
   "metadata": {},
   "outputs": [
    {
     "data": {
      "text/plain": [
       "582701.0523804177"
      ]
     },
     "execution_count": 15,
     "metadata": {},
     "output_type": "execute_result"
    }
   ],
   "source": [
    "mean_squared_error(valid_y, y_pred)**(1/2)"
   ]
  },
  {
   "cell_type": "markdown",
   "id": "d71348ab-0e13-4183-bf3d-76514348779d",
   "metadata": {},
   "source": [
    "## Neural Networks for regression"
   ]
  },
  {
   "cell_type": "code",
   "execution_count": 24,
   "id": "5e3cf609-919c-4964-996e-ed373540c89b",
   "metadata": {},
   "outputs": [
    {
     "name": "stdout",
     "output_type": "stream",
     "text": [
      "CPU times: user 1min, sys: 574 ms, total: 1min 1s\n",
      "Wall time: 1min 46s\n"
     ]
    },
    {
     "data": {
      "text/plain": [
       "MLPRegressor(hidden_layer_sizes=(8, 3, 2), max_iter=10000)"
      ]
     },
     "execution_count": 24,
     "metadata": {},
     "output_type": "execute_result"
    }
   ],
   "source": [
    "%%time\n",
    "\n",
    "ann = MLPRegressor(hidden_layer_sizes=(8,3,2), max_iter=10000)\n",
    "ann.fit(train_X,train_y)"
   ]
  },
  {
   "cell_type": "code",
   "execution_count": 25,
   "id": "d406347c-e469-49c1-960c-8868744e6f2d",
   "metadata": {},
   "outputs": [
    {
     "name": "stdout",
     "output_type": "stream",
     "text": [
      "CPU times: user 1.75 ms, sys: 1.39 ms, total: 3.14 ms\n",
      "Wall time: 2.77 ms\n"
     ]
    }
   ],
   "source": [
    "%%time\n",
    "y_pred = ann.predict(valid_X)"
   ]
  },
  {
   "cell_type": "code",
   "execution_count": 26,
   "id": "9ddfc971-1914-48b1-84c0-94eaaab56211",
   "metadata": {},
   "outputs": [
    {
     "data": {
      "image/png": "[encoded data removed]",
      "text/plain": [
       "<Figure size 432x288 with 1 Axes>"
      ]
     },
     "metadata": {
      "needs_background": "light"
     },
     "output_type": "display_data"
    }
   ],
   "source": [
    "X_grid=np.arange(min(train_X),max(train_X),0.1)\n",
    "X_grid=X_grid.reshape((len(X_grid),1))\n",
    "plt.scatter(train_X,train_y,color='red')\n",
    "plt.scatter(valid_X,y_pred,color='grey')\n",
    "plt.title('ANN Regression Test')\n",
    "plt.xlabel('Input')\n",
    "plt.ylabel('Target')\n",
    "plt.show()"
   ]
  },
  {
   "cell_type": "code",
   "execution_count": 27,
   "id": "6215892e-f637-46de-9c2d-5f1d159f2e97",
   "metadata": {},
   "outputs": [
    {
     "data": {
      "text/plain": [
       "689357.9807119798"
      ]
     },
     "execution_count": 27,
     "metadata": {},
     "output_type": "execute_result"
    }
   ],
   "source": [
    "mean_squared_error(valid_y, y_pred)**(1/2)"
   ]
  },
  {
   "cell_type": "markdown",
   "id": "9e78ebf9-89de-4030-8a9a-0d1ee017ea17",
   "metadata": {},
   "source": [
    "## Summary of Results"
   ]
  },
  {
   "cell_type": "markdown",
   "id": "b5dfdb2d-2039-415a-aa99-a53787b33ce6",
   "metadata": {},
   "source": [
    "* After doing the train, test split of the data and fitting the trained data into KNN, XGBOOST and Neural Network.\n",
    "* The KNN and XGBoost fit data the best train/test split data while the Neural Networks took much longer time than the other two models. \n",
    "* When we observed at the graph of each model, KNN and XGBoost are indicating that they may be having a high standard error. \n",
    "* In neutral network graph,  very less standard deviation is observed as the mean squared error of Neural Networks is very less compared to the KNN and XGBOOST. \n",
    "* The KNN and XGBOOST models seem to be missing the underlying relationship. \n",
    "* The MLPRegression has done a good job at identifing the underlying relationship."
   ]
  },
  {
   "cell_type": "code",
   "execution_count": null,
   "id": "6a7b1eb0-4e75-4917-bfd8-f1ee14da4ae4",
   "metadata": {},
   "outputs": [],
   "source": []
  }
 ],
 "metadata": {
  "kernelspec": {
   "display_name": "Python 3 (ipykernel)",
   "language": "python",
   "name": "python3"
  },
  "language_info": {
   "codemirror_mode": {
    "name": "ipython",
    "version": 3
   },
   "file_extension": ".py",
   "mimetype": "text/x-python",
   "name": "python",
   "nbconvert_exporter": "python",
   "pygments_lexer": "ipython3",
   "version": "3.9.12"
  }
 },
 "nbformat": 4,
 "nbformat_minor": 5
}
